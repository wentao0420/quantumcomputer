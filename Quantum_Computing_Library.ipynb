{
  "nbformat": 4,
  "nbformat_minor": 0,
  "metadata": {
    "colab": {
      "provenance": [],
      "authorship_tag": "ABX9TyOldwzqGC4PSi7+9qzj+MWD",
      "include_colab_link": true
    },
    "kernelspec": {
      "name": "python3",
      "display_name": "Python 3"
    },
    "language_info": {
      "name": "python"
    }
  },
  "cells": [
    {
      "cell_type": "markdown",
      "metadata": {
        "id": "view-in-github",
        "colab_type": "text"
      },
      "source": [
        "<a href=\"https://colab.research.google.com/github/wentao0420/quantumcomputer/blob/main/Quantum_Computing_Library.ipynb\" target=\"_parent\"><img src=\"https://colab.research.google.com/assets/colab-badge.svg\" alt=\"Open In Colab\"/></a>"
      ]
    },
    {
      "cell_type": "markdown",
      "source": [
        "##  Quantum Computing Library \n",
        "---\n",
        "Obtained from https://github.com/rnowotniak/qclib\n"
      ],
      "metadata": {
        "id": "WnDDQpiuGKe6"
      }
    },
    {
      "cell_type": "code",
      "execution_count": null,
      "metadata": {
        "id": "G_RB5phPE4dm"
      },
      "outputs": [],
      "source": [
        "from numpy import *\n",
        "from random import random\n",
        "import copy"
      ]
    },
    {
      "cell_type": "code",
      "source": [
        "# for floating point operations, comparisons etc.\n",
        "epsilon = 10e-6"
      ],
      "metadata": {
        "id": "CQjVzb7UE8gI"
      },
      "execution_count": null,
      "outputs": []
    },
    {
      "cell_type": "markdown",
      "source": [
        "Defining quantum register class"
      ],
      "metadata": {
        "id": "CgRDUVtfGvaM"
      }
    },
    {
      "cell_type": "code",
      "source": [
        "class QRegister:\n",
        "\n",
        "    def __init__(self, m = None):\n",
        "        if m == None:\n",
        "            return\n",
        "        if isinstance(m, ndarray) or type(m) == type([]):\n",
        "            m = matrix(m)\n",
        "        if isinstance(m, matrix) and m.shape[0] == 1:\n",
        "            m = transpose(m)\n",
        "        if not isinstance(m, matrix) or m.shape[1] != 1:\n",
        "            raise WrongSizeException\n",
        "        self.matrix = m\n",
        "        self.size = int(math.log(m.size, 2))\n",
        "\n",
        "    def __rmul__(self, arg1):\n",
        "        # arg1 * self\n",
        "        if type(arg1) not in [int, float, complex]:\n",
        "            raise Exception()\n",
        "        result = copy.deepcopy(self)\n",
        "        result.matrix = arg1 * self.matrix\n",
        "        return result\n",
        "\n",
        "    def __add__(self, arg2):\n",
        "        # self + arg2\n",
        "        result = copy.deepcopy(self)\n",
        "        result.matrix = self.matrix + arg2.matrix\n",
        "        return result\n",
        "\n",
        "    def __sub__(self, arg2):\n",
        "        # self - arg2\n",
        "        result = copy.deepcopy(self)\n",
        "        result.matrix = self.matrix - arg2.matrix\n",
        "        return result\n",
        "\n",
        "    def __pow__(self, arg2):\n",
        "        # self ** arg2\n",
        "        result = QRegister()\n",
        "        result.matrix = kron(self.matrix, arg2.matrix)\n",
        "        result.size = int(math.log(result.matrix.size, 2))\n",
        "        return result\n",
        "\n",
        "    def __cmp__(self, other):\n",
        "        m1 = self.matrix\n",
        "        if isinstance(other, (matrix, ndarray)):\n",
        "            m2 = other\n",
        "        elif isinstance(other, QRegister):\n",
        "            m2 = other.matrix\n",
        "        else:\n",
        "            return -1\n",
        "        try:\n",
        "            if sum(abs(m1 - m2)) < epsilon:\n",
        "                return 0\n",
        "            else:\n",
        "                return 1\n",
        "        except Exception:\n",
        "            raise WrongSizeException('Comparison of different size quantum registers')\n",
        "\n",
        "    def __str__(self):\n",
        "        return str(self.matrix)\n",
        "\n",
        "    def reset(self, n = 0):\n",
        "        for i in range(self.matrix.size):\n",
        "            self.matrix[i] = 0\n",
        "        self.matrix[n] = 1\n",
        "\n",
        "    def normalize(self):\n",
        "        l = sqrt(sum([abs(x)**2 for x in self.matrix]))\n",
        "        self.matrix = self.matrix / l\n",
        "        return self\n",
        "\n",
        "    def measure(self, *qubits):\n",
        "        if len(qubits) == 0:\n",
        "            # measure all qubits in register\n",
        "            qubits = range(int(math.log(self.matrix.size, 2)))\n",
        "        qubits = list(qubits)\n",
        "        qubits.sort()\n",
        "        p = {} # results probabilities\n",
        "        # number of possible measurement results\n",
        "        nres = 2 ** len(qubits)\n",
        "        # enumerate all posible results\n",
        "        for i in range(nres):\n",
        "            p[dec2bin(i, int(math.log(nres, 2)))[::-1]] = 0.0\n",
        "        for i in range(self.matrix.size):\n",
        "            # reversed binary representation of base vector\n",
        "            revbin = dec2bin(i, int(math.log(self.matrix.size, 2)))[::-1]\n",
        "            # reversed binary representation of selected qubits\n",
        "            revsel = ''.join([revbin[q] for q in qubits])\n",
        "            p[revsel] += float(abs(self.matrix[i]) ** 2)\n",
        "        keys = p.keys()\n",
        "        # accumulated probabilities\n",
        "        last = p[keys[0]]\n",
        "        for k in keys[1:]:\n",
        "            p[k] += last\n",
        "            last = p[k]\n",
        "        p[keys[-1]] = 1.0\n",
        "        # get the measurement result according to probabilities\n",
        "        r = random()\n",
        "        for k in keys:\n",
        "            if r <= p[k]:\n",
        "                result = k\n",
        "                break\n",
        "        # selective reset of amplitudes\n",
        "        for i in range(self.matrix.size):\n",
        "            revbin = dec2bin(i, int(math.log(self.matrix.size, 2)))[::-1]\n",
        "            revsel = ''.join([revbin[q] for q in qubits])\n",
        "            if revsel != result:\n",
        "                self.matrix[i] = 0.0\n",
        "        # normalize final state\n",
        "        self.normalize()\n",
        "        return Ket(int(result[::-1], 2), len(qubits))\n",
        "\n",
        "    def dirac(self, reduce = True, binary = True):\n",
        "        \"\"\"Return state in Dirac (bra-ket) notation\"\"\"\n",
        "        elems = []\n",
        "        if len(list(filter(lambda x: float(abs(x)) > 1 - epsilon, self.matrix))) == 1:\n",
        "            single = True\n",
        "        else:\n",
        "            single = False\n",
        "        for i in range(self.matrix.size):\n",
        "            val = complex(real(self.matrix[i]), imag(self.matrix[i]))\n",
        "            if reduce and abs(val) < epsilon:\n",
        "                continue\n",
        "            if abs(val) < epsilon:\n",
        "                elem = '+0'\n",
        "            elif imag(val) == 0:\n",
        "                elem = '%+g' % abs(val)\n",
        "            elif real(val) != 0:\n",
        "                elem = '+%s' % str(val)\n",
        "            else:\n",
        "                # only imaginary part\n",
        "                elem = '%+gj' % (imag(val))\n",
        "            if single and reduce:\n",
        "                elem = ''\n",
        "            if binary:\n",
        "                elem += ('|%0'+str(math.log(self.matrix.size, 2))+'d>') % int(dec2bin(i))\n",
        "            else:\n",
        "                elem += '|%s>' % i\n",
        "            elems.append(elem)\n",
        "        return ' '.join(elems)\n",
        "\n",
        "    def outer(self, qreg):\n",
        "        '''Compute an outer product with another register'''\n",
        "        if self.matrix.size != transpose(qreg.matrix).size:\n",
        "            raise WrongSizeException('Outer product of different size registers')\n",
        "        result = Arbitrary(dot(self.matrix, transpose(qreg.matrix)))\n",
        "        return result"
      ],
      "metadata": {
        "id": "dAKX-U8XFALV"
      },
      "execution_count": null,
      "outputs": []
    },
    {
      "cell_type": "markdown",
      "source": [
        "Defining qubit class"
      ],
      "metadata": {
        "id": "whbaR0RoG3Ft"
      }
    },
    {
      "cell_type": "code",
      "source": [
        "class Qubit(QRegister):\n",
        "\n",
        "    def __init__(self, val):\n",
        "        if not isinstance(val, int):\n",
        "            return QRegister.__init__(self, val)\n",
        "        self.size = 1\n",
        "        if val == 0:\n",
        "            self.matrix = transpose(matrix([[1, 0]]))\n",
        "        elif val == 1:\n",
        "            self.matrix = transpose(matrix([[0, 1]]))\n",
        "        else:\n",
        "            raise WrongSizeException\n",
        "\n",
        "    def flip(self):\n",
        "        tmp = self.matrix[0]\n",
        "        self.matrix[0] = self.matrix[1]\n",
        "        self.matrix[1] = tmp"
      ],
      "metadata": {
        "id": "UUjkhuTkFAIK"
      },
      "execution_count": null,
      "outputs": []
    },
    {
      "cell_type": "markdown",
      "source": [
        "Defining quantum circuit class"
      ],
      "metadata": {
        "id": "HaPEfckzIfag"
      }
    },
    {
      "cell_type": "code",
      "source": [
        "class QCircuit:\n",
        "\n",
        "    def __init__(self, *stages):\n",
        "        self.stages = stages\n",
        "\n",
        "    def __call__(self, qreg):\n",
        "        # Efficient algorithm could be implemented here instead\n",
        "        result = copy.deepcopy(qreg)\n",
        "        for s in self.stages:\n",
        "            result = s(result)\n",
        "        return result"
      ],
      "metadata": {
        "id": "-IykvI0gFAGF"
      },
      "execution_count": null,
      "outputs": []
    },
    {
      "cell_type": "markdown",
      "source": [
        "Defining quantum gate class"
      ],
      "metadata": {
        "id": "oV5YxCkYG5un"
      }
    },
    {
      "cell_type": "code",
      "source": [
        "class QGate:\n",
        "\n",
        "    def __pow__(self, arg2):\n",
        "        # parallel gates\n",
        "        if not isinstance(arg2, QGate):\n",
        "            raise Exception(repr(arg2))\n",
        "        result = Stage(self, arg2)\n",
        "        return result\n",
        "\n",
        "    def __str__(self):\n",
        "        return str(self.matrix)\n",
        "\n",
        "    def __mul__(self, arg2):\n",
        "        # self * arg2\n",
        "        if isinstance(arg2, QRegister):\n",
        "            # gate * reg\n",
        "            result = QRegister()\n",
        "            try:\n",
        "                result.matrix = dot(self.matrix, arg2.matrix)\n",
        "            except:\n",
        "                raise WrongSizeException('Wrong size of input register for this gate')\n",
        "            return result\n",
        "        if self.matrix.shape != arg2.matrix.shape:\n",
        "            raise Exception()\n",
        "        # gate * gate\n",
        "        result = QGate()\n",
        "        # order changed!\n",
        "        result.matrix = dot(arg2.matrix, self.matrix)\n",
        "        return result\n",
        "\n",
        "    def __rmul__(self, arg1):\n",
        "        # arg1 * self\n",
        "        if type(arg1) not in [int, float, complex]:\n",
        "            raise Exception('Numerical coefficient expected')\n",
        "        result = copy.deepcopy(self)\n",
        "        result.matrix = arg1 * self.matrix\n",
        "        return result\n",
        "\n",
        "    def __add__(self, arg2):\n",
        "        # self + arg2\n",
        "        result = copy.deepcopy(self)\n",
        "        result.matrix = self.matrix + arg2.matrix\n",
        "        return result\n",
        "\n",
        "    def __sub__(self, arg2):\n",
        "        # self - arg2\n",
        "        result = copy.deepcopy(self)\n",
        "        result.matrix = self.matrix - arg2.matrix\n",
        "        return result\n",
        "\n",
        "    def __call__(self, qreg):\n",
        "        return self.compute(qreg)\n",
        "\n",
        "    def compute(self, qreg):\n",
        "        if not isinstance(qreg, QRegister):\n",
        "            raise Exception()\n",
        "        return self * qreg\n",
        "\n",
        "    def trace(self):\n",
        "        return self.matrix.trace()\n",
        "\n",
        "    def determinant(self):\n",
        "        return linalg.det(self.matrix)\n",
        "\n",
        "    def transpose(self):\n",
        "        self.matrix = transpose(self.matrix)\n",
        "        return self\n",
        "\n",
        "    def inverse(self):\n",
        "        self.matrix = linalg.inv(self.matrix)\n",
        "        return self"
      ],
      "metadata": {
        "id": "coT051E4FADO"
      },
      "execution_count": null,
      "outputs": []
    },
    {
      "cell_type": "markdown",
      "source": [
        "Defining quantum computing stage (a layer in circuit)"
      ],
      "metadata": {
        "id": "rGabCcjiG-Xa"
      }
    },
    {
      "cell_type": "code",
      "source": [
        "class Stage(QGate):\n",
        "\n",
        "    def __init__(self, *gates):\n",
        "        self.gates = gates\n",
        "        m = self.gates[0].matrix\n",
        "        for g in self.gates[1:]:\n",
        "            m = kron(m, g.matrix)\n",
        "        self.matrix = m\n",
        "        self.size = sum([g.size for g in gates])"
      ],
      "metadata": {
        "id": "16ef_5d4FAAb"
      },
      "execution_count": null,
      "outputs": []
    },
    {
      "cell_type": "markdown",
      "source": [
        "Defining elementary quantum gates"
      ],
      "metadata": {
        "id": "wNwhsw-HHDEm"
      }
    },
    {
      "cell_type": "code",
      "source": [
        "class ElementaryQuantumGate(QGate):\n",
        "    pass\n",
        "\n",
        "\n",
        "class Identity(ElementaryQuantumGate):\n",
        "    def __init__(self, size = 1):\n",
        "        self.matrix = eye(2 ** size)\n",
        "        self.size = size\n",
        "        \n",
        "\n",
        "class Hadamard(ElementaryQuantumGate):\n",
        "    def __init__(self, size = 1):\n",
        "        h = s2 * matrix([\n",
        "            [1, 1],\n",
        "            [1, -1]])\n",
        "        m = h\n",
        "        for i in range(size - 1):\n",
        "            m = kron(m, h)\n",
        "        self.matrix = m\n",
        "        self.size = size\n",
        "\n",
        "\n",
        "class CNot(ElementaryQuantumGate):\n",
        "    '''Controlled not gate'''\n",
        "\n",
        "    def __init__(self, control = 1, target = 0):\n",
        "        if control == target:\n",
        "            # (it would impose non-unitary matrix)\n",
        "            raise Exception('Control and target qubits cannot be equal')\n",
        "        elif control == 1 and target == 0:\n",
        "            self.matrix = matrix([\n",
        "                [1, 0, 0, 0],\n",
        "                [0, 1, 0, 0],\n",
        "                [0, 0, 0, 1],\n",
        "                [0, 0, 1, 0]])\n",
        "            self.size = 2\n",
        "        elif control == 0 and target == 1:\n",
        "            self.matrix = matrix([\n",
        "                [1, 0, 0, 0],\n",
        "                [0, 0, 0, 1],\n",
        "                [0, 0, 1, 0],\n",
        "                [0, 1, 0, 0]])\n",
        "            self.size = 2\n",
        "        else:\n",
        "            size = max(control, target) + 1\n",
        "            if size == 1:\n",
        "                size = 2\n",
        "            dim = 2 ** size\n",
        "            self.matrix = eye(dim)\n",
        "            # find correct permutation of identity matrix columns\n",
        "            for b in range(dim):\n",
        "                bstr = dec2bin(b, size)\n",
        "                if bstr[-(control+1)] == '1':\n",
        "                    bstr = list(bstr)\n",
        "                    if bstr[-(target+1)] == '0':\n",
        "                        bstr[-(target+1)] = '1'\n",
        "                    else:\n",
        "                        bstr[-(target+1)] = '0'\n",
        "                    bstr = ''.join(bstr)\n",
        "                    self.matrix[:,b] = eye(dim)[:,int(bstr, 2)]\n",
        "            self.size = size\n",
        "\n",
        "\n",
        "class Not(ElementaryQuantumGate):\n",
        "    '''Not gate'''\n",
        "\n",
        "    def __init__(self):\n",
        "        self.matrix = matrix([\n",
        "            [0, 1],\n",
        "            [1, 0]])\n",
        "        self.size = 1\n",
        "\n",
        "\n",
        "class PhaseShift(ElementaryQuantumGate):\n",
        "    def __init__(self, angle = pi):\n",
        "        self.angle = angle\n",
        "        self.matrix = matrix([\n",
        "            [1, 0],\n",
        "            [0, exp(angle * 1j)]])\n",
        "        self.size = 1\n",
        "\n",
        "\n",
        "class Toffoli(ElementaryQuantumGate):\n",
        "    '''Toffoli gate -- Controlled Controlled Not gate'''\n",
        "    def __init__(self):\n",
        "        self.matrix = matrix([\n",
        "            [ 1,  0,  0,  0,  0,  0,  0,  0],\n",
        "            [ 0,  1,  0,  0,  0,  0,  0,  0],\n",
        "            [ 0,  0,  1,  0,  0,  0,  0,  0],\n",
        "            [ 0,  0,  0,  1,  0,  0,  0,  0],\n",
        "            [ 0,  0,  0,  0,  1,  0,  0,  0],\n",
        "            [ 0,  0,  0,  0,  0,  1,  0,  0],\n",
        "            [ 0,  0,  0,  0,  0,  0,  0,  1],\n",
        "            [ 0,  0,  0,  0,  0,  0,  1,  0]])\n",
        "        self.size = 3\n",
        "\n",
        "\n",
        "class Fredkin(ElementaryQuantumGate):\n",
        "    '''Fredkin gate -- Controlled Swap gate'''\n",
        "    def __init__(self):\n",
        "        self.matrix = matrix([\n",
        "            [ 1,  0,  0,  0,  0,  0,  0,  0],\n",
        "            [ 0,  1,  0,  0,  0,  0,  0,  0],\n",
        "            [ 0,  0,  1,  0,  0,  0,  0,  0],\n",
        "            [ 0,  0,  0,  1,  0,  0,  0,  0],\n",
        "            [ 0,  0,  0,  0,  1,  0,  0,  0],\n",
        "            [ 0,  0,  0,  0,  0,  0,  1,  0],\n",
        "            [ 0,  0,  0,  0,  0,  1,  0,  0],\n",
        "            [ 0,  0,  0,  0,  0,  0,  0,  1]])\n",
        "        self.size = 3\n",
        "\n",
        "\n",
        "class Swap(ElementaryQuantumGate):\n",
        "    '''Qubits order swap gate'''\n",
        "    def __init__(self):\n",
        "        self.matrix = matrix([\n",
        "            [1, 0, 0, 0],\n",
        "            [0, 0, 1, 0],\n",
        "            [0, 1, 0, 0],\n",
        "            [0, 0, 0, 1]])\n",
        "        self.size = 2\n",
        "\n",
        "\n",
        "class Arbitrary(ElementaryQuantumGate):\n",
        "    '''Quantum gate with arbitrary unitary matrix'''\n",
        "    def __init__(self, m):\n",
        "        m = matrix(m)\n",
        "        if (m.H * m == eye(m.shape[0])).any() == False:\n",
        "            pass\n",
        "            # raise Exception, 'Not unitary matrix for quantum gate'\n",
        "        self.matrix = m\n",
        "        self.size = int(math.log(m.shape[0], 2))"
      ],
      "metadata": {
        "id": "bGXlUuqnE_9m"
      },
      "execution_count": null,
      "outputs": []
    },
    {
      "cell_type": "code",
      "source": [
        "class WrongSizeException(Exception):\n",
        "    def __str__(self):\n",
        "        return 'Wrong size of quantum computing object'\n",
        "\n",
        "\n",
        "def dec2bin(dec, length = None):\n",
        "    \"\"\"convert decimal value to binary string\"\"\"\n",
        "    result = ''\n",
        "    if dec < 0:\n",
        "        raise ValueError(\"Must be a positive integer\")\n",
        "    if dec == 0:\n",
        "        result = '0'\n",
        "        if length != None:\n",
        "            result = result.rjust(length, '0')\n",
        "        return result\n",
        "    while dec > 0:\n",
        "        result = str(dec % 2) + result\n",
        "        dec = dec >> 1\n",
        "    if length != None:\n",
        "        result = result.rjust(length, '0')\n",
        "    return result\n",
        "\n",
        "\n",
        "def Ket(n, size = None):\n",
        "    if (n == 0 or n == 1) and size == None:\n",
        "        return Qubit(n)\n",
        "    ket = QRegister()\n",
        "    if size == None:\n",
        "        size = int(floor(math.log(n, 2)) + 1)\n",
        "    ket.matrix = transpose(matrix([zeros(2 ** size)]))\n",
        "    ket.matrix[n] = 1\n",
        "    return ket\n",
        "\n",
        "\n",
        "def epr(qreg = Ket(0) ** Ket(0)):\n",
        "    \"\"\"Generate an EPR-pair for |00> input state\"\"\"\n",
        "    circ = (Hadamard() ** I) * CNot()\n",
        "    return circ(qreg)"
      ],
      "metadata": {
        "id": "I57M3R6lnxGv"
      },
      "execution_count": null,
      "outputs": []
    },
    {
      "cell_type": "markdown",
      "source": [
        "Assigning operations"
      ],
      "metadata": {
        "id": "oqneKd5qJTL4"
      }
    },
    {
      "cell_type": "code",
      "source": [
        "ket0 = Ket(0)\n",
        "ket1 = Ket(1)\n",
        "s2 = sqrt(2) / 2\n",
        "\n",
        "h = Hadamard()\n",
        "I = Identity()\n",
        "cnot = CNot()\n",
        "cnot2 = CNot(0, 1)\n",
        "T = Arbitrary(matrix([\n",
        "    [1, 0],\n",
        "    [0, exp(1.0j*pi/4)]]))"
      ],
      "metadata": {
        "id": "lED1h3LXE_6I"
      },
      "execution_count": null,
      "outputs": []
    },
    {
      "cell_type": "markdown",
      "source": [
        "Testing\n",
        "\n",
        "![Screenshot 2022-12-19 204250.png](data:image/png;base64,iVBORw0KGgoAAAANSUhEUgAAAZEAAADmCAYAAAAUcbiaAAAAAXNSR0IArs4c6QAAAARnQU1BAACxjwv8YQUAAAAJcEhZcwAAEnQAABJ0Ad5mH3gAACS2SURBVHhe7d0JvJXTGsfx1aBUUqRMocFQiErIRSU3pW6Gax5KKiHkcmXOkKFBVzJGV4kMSSQJlaFQhEqGBqIojcqQSGnf/Xtam9O5Zw9nnX06+5z9/34++9Pea+9z0va+77PWep613lKRKCciIhKgtP9TREQk3xREREQkmIKIiIgEUxAREZFgCiIiIhJMQURERIIpiIiISDAFERERCaYgIiIiwRREREQkmIKIiIgEUxAREZFgCiIiIhJMQURERIIpiIiISDAFERERCaYgIiIiwRREREQkmIKIiIgEUxAREZFgCiIiIhJMQURERIIpiIiISDAFERERCaYgIiIiwRREREQkmIKIt/POO7spU6b4V0Vj06ZN7umnn3YHHXSQbxERyWwKIt7q1avdmjVr/KuiUbp0adewYUO3aNEi9/rrr/tWEZHMpSCSYWrVqmWBZNSoUb5FRCRzKYhkmHLlyrmOHTu6sWPHup9++sm3ikheNm7c6NauXet++OEHm03gz59//tn9/vvv/hNS2EpFovzzrLbNNtu45557zp144om+peisWrXKHXbYYe7GG290nTt39q0iEkOQWL58uZs1a5abOnWq++qrr+x1xYoVXb169Vzjxo3d4Ycf7nbffXdXoUIFV6pUKf+Tkm4KIl4mBZFff/3V9ejRw3366adu2rRpvlVEuFwRLF5++WUbre+xxx7uH//4h9tll13c9OnTLa/YsmVLO5d53aRJE3fSSSe5ffbZx5UpU8b/FkknTWdloG233dadd9557vPPP3fz5s3zrSLZjerFzz77zN122202AnnggQfc/fff79q0aeP22msv+0ylSpVcnTp13NVXX+1Gjhzpqlat6vr16+fefPNNTXEVEgWRDMTQe//993d77723e+SRR3yrSHZjyuq6665zNWvWdPfdd5/9GcMIJfekCiOPiy66yEb1BJRXXnnFvyPppCCSoehRnXbaaTYs/+WXX3yrSHb68ccf3aBBg9xRRx1lgSQ/GjVq5M455xwrm//oo498q6SLgkgAchYMq1mc+M4777glS5ZYOz0heksrV6601wVRvnx5m+tlCP/qq6/6VpHs88cff7g33njDqq+uueYa35o/LVq0cLvttpubOHFika8HK2kURPKBC/qCBQvc4MGDXZ8+fdzQoUPtOVNOX375pSXyOMjff/99/xMFw3C9efPmbtiwYb5FJPtQwsu5dvPNN/uWMBdccIGdv7Nnz/Ytkg4KIikigHzwwQeue/fubsiQIe7cc891jz32mB3c1atXd3379nWXXnqpW7x4satdu7b/qYKpXLmya9++vZs5c6atYhfJNozuFy5caOun9t13X98aplq1ara9ETMHGzZs8K1SUAoiKfr4448tQUfF1MCBA60iBBzcZ599tk1xffjhh+6QQw6xssOcvv/+e6uymj9/vvvtt998a3IkBo844gg7+J988knfKpI9mMqi83bGGWf4lrxR2su5yJ+JtG7d2s7HdEw5y2ZaJ+IlWidCXfrFF1/sXnjhBdezZ0/Xv39//85m9Gouu+wy9/DDD1vVCCMSsOL87bffdl9//bWVF3Lw8lkWEpLvoJQ3GYbyt99+u5swYYIFqWQnSU4EvO+++0718VJssSL9oYcecm3btrW1HswI5MY5QeKdHCULC48//ni3fv16/+5fOA84lzmPW7VqZdWP/P5EjjnmGP9M4lEQ8eIFEQ6yp556ytZtsBKWEQGrYXP64osvrJSQizzvEyAIGuzIy1D8gAMOsD2xOICfeeYZqxJhfpaAtN122/nfEh/J+w4dOlhNfLt27XxrcgQfFmWlEqxEMhFBg1F83bp1baSRF0riCRpMU1GQwkwAI5jc+BznM506FicyXZzs8sf6EklMQcSLF0Q4MCm1ZeU4+QlWyeZG/Tnbk+y5556WZD/44IOtt0NQ6dq16xY5Eg5iggwjC4LMqaeemnSk8M0337hOnTpZeWPv3r19a3KMgkj4ly1b1reIFC+cL3TMjj32WAsOeV2uOL45R+js0Vmjw8X0cm6MWKjM4nzlXGKBYl7BJid+lyRBEJFIJHogRsaMGeNf/SUaPDhqIxUrVozcfPPNvnVL9957r30meqGPrF692tq6dOkSiY5YIuPGjYtEe0nWFjNixAj7fS1btoysW7fOt8Y3c+bMSP369SPDhw/3LSLZYcOGDZEBAwZEohd+35K3+fPnR04++eRIr169fEveZsyYEbn77rsjixYt8i1SUEqsJ8CUFAl1kNxu2rSpPc+JYTQJc+y3335uhx12sOfR4OCiB6zN0+buFTEtxrB77ty5SXtC/P7JkydbLoU9gESyCaN09r9ilJEI016cI9Frmm/J2/jx4+1crlGjhm+RglIQSYCh9LJly+x5lSpV8rzjIPOrLDxk91DmbWO6devmor0id8IJJ/xf3mPFihX2uykNTra7KAusXnzxRasG23777X2rSHbg/DjwwAPd0qVL/zwXQ9GZYzHwrrvuqjxhGimIJMAcKsEBVH2w4jU3gsgnn3zi6tevbxu/xbBC9tZbb3VHHnnk/+U8mJPlngdsxRAvWQh6VawRIbGoLeElW9F5OvPMM22Bb0Gwrou8ZYMGDXyLpIOCSAJMOREckFdpLSW748aNs/t/xDZMzCmvUcacOXMsgU+ikAWLJPTjYc8sAg4JQPb/EclGnCMUvFAyP2LECN+aP0w586Bkl8osSR8FkQQIAvRaGE4TKHJuy0657p133vnnliSspmXKKxFOgiuvvNJKC1nhnuxg5u+giotgI5LNyGOwVuuJJ55wjz/+uG9NDWX2bE/EQuC88ppSMAoiSXBntDvuuMOmlq699lr37rvv2v3PaWOkwP5WBI/co5Dc+PkuXbrYtNjw4cNtZJEoH0LOhPUhBB5KjEWyGecK67PYm47NGLlHCAtxk6Eknw4byXlK9BNNH0sYBZEkqEFnBSy16txu87XXXrMkH/XjrHplpSwJdVbTJnL99de7HXfc0eZ1+T3J1oZwgtDjYvhNAl4k23EusiEpN5yiGuv888+3AEFOkhxjLFnO1kJMe7Ggl81QzzrrLHfyyScnnSmQMFps6CXa9gR8TVzYGRkwmiAgsPkiowsOUrZmiHeQEkAo/SWRnjM5f/nll1tQiSXvc2LLEvbNYht4/hSRzTgX6byxkJYAwq687BrBHluU7pJvpMilYcOGVk6/00475Wu7IMkffbMpYjhNLoPpLQIIAYUDGIxC4gUQVpizcyglvzkDCCtnmbLKC2tDGPkwVaYAIrIlzkVue0uO4/TTT7dpZjZHpQimWbNmVlrfsWNHW5VOUFEAKVz6dgOxHQoLEVkDEm+Lau4FPWbMGKsKYWNGAgoP9rRiS3lGJ3lNa1HPzlwuIxcRyRvBhDuA0kmjgpGOHAl4HgQZBY+tQ99yIILIrFmzrPdD9VZuJN6Zr2WdB1Nd3FCHdSM8eM5GjAy5c+9rxVzv1KlTraKE3pSIpIZzR7PzW59yIl6ynAgo82XdBivOuc0mSXY2V6R6itXssU3dQEKPu6gx0sjrK6btb3/7my1+ylmlRVKQeyeQJBw5cqRvFZFEKL+/6qqrLA/CDIBsPQoiXipB5Ntvv7Xt2FlkSK+HnEZsOopgws2pYqW+qfSKGG7nDCDg76D8l9GLSntFUqMgUnQURDx6/qNHj054vw4CA5u8xcQCAF8hz5maKsg8LL+fhDrVXNwOV3O6IqlRECk6ukp55DeOO+44/ypvXNTZCiX2YOESj9jzgl70+flTTjnFvfXWWwogIlIs6ErlUU+eaB+rrSX3bsAiIplMQURERIIpiIiISDAFERERCaYgIiIiwRREREQkmIKIiIgEUxAREZFgCiIiIhJMQURERIIpiIiISDAFERERCaYgIiIiwRREREQkmIKIiIgEUxAREZFgCiIiIhJMQURERIIpiIiISDAFERERCaYgIiIiwRREREQkmIKIiIgEKxWJ8s9FCmzlypX2KF068/snHPqVKlVyNWvWLBb/vRLfvHnz3FVXXeUaNmzobrvtNt8qW4OCiKTNmDFj3M033+wWL17sypYt61szF4f+tttu6x588EHXqFEjt9tuu7lSpUr5d6U4URApOgoikhZr1qxx3bp1sx79FVdc4X777Tf/TmYjiMycOdM9++yz7pVXXrHXUvwoiBQdBRFJi+XLl7vzzjvPHXzwwa5fv36+tXgYPHiwu/POO93cuXNdxYoVfasUJwoiRUcTwZIWTAPx2LRpk28pPvjvLg7TbyKZSEFERESCKYiIiEgwBREREQmmICIiIsEURLxPPvnEbdiwwb8qOuvWrbMqIRGR4kBBxDv00EPda6+95l8VDSqbRo8e7f7+97+7P/74w7eKiGQuBRGPi3ZRX7hZqNeiRQu3fv16CyYiIplOQSTDVK9e3R111FFu1KhRvkVEJHMpiGSYcuXK2fYhr776qvvmm298a8nHxgm//PKLPcgL/frrr/bgOQ/ac26lwud5ndfPxNp4vzgufhQpTrTtibfNNtu45557zp144om+pej88MMPrlmzZu60005zvXr18q2ZbcWKFbbtyYEHHujuuusu35o6Lvr33HOPTSn+/vvvf04tcnjG9rNig8SuXbvatN/333/vXnrpJffVV1/ZZzZu3Gh/gkDMKvS99trLtWvXzu28887WHs/DDz9sW7V8+umn2vakmNK2J0VHI5EMVKFCBQtmzzzzjG8p+X766ScLJGvXrnVTpkxxffv2tcfw4cNta/nYiIRgAUYYsZHI+++/b58lEIwYMcJ9++239h6/K/Z5Kfm0A3MRYSQikUjZsmUjY8aM8a+K3pw5cyKVK1eORC+oviWzLV++PNKmTZtItDfoW8JEg0NkwoQJDCki0VFBZMiQIf6d+MaPHx+pVq2a/UyfPn18a+oGDx4cqV27diQakHxL8cR3Fx3FRdavX2/PswnnS9u2bSM33nijb5GtRSORDLXLLru4ww47zO51kU2ix6QbN26cPWda6rjjjrPnicyfP9+mt/bYYw9Xv35935o9WN9E/uzNN990jz32mIsGXtvWfsGCBVvkkUoi/n38/586dar78ssvbY3VRx995JYuXap82FaiIFIAXPB4FIbtttvOcgxvvfWW5RuyBSc+/2YQSPfcc097Hg/B4/PPP7fne++9t9tvv/3sebagkGDs2LHu9NNPd8cee6wVZVx66aWWC+LBdCD3eimJvvvuO3fvvfe61q1buy5dulgwIa95+OGHW+6MoMr3I4VLQSQA986YNGmSe/755+3x8ccfWzsJ4XfffdctXLjQXhcEW5NT6lulShU3cuRI31ryrVq1yn322Wf272/ZsqVvjW/JkiVu9uzZ9rxOnToWSLIFvfBhw4a5Dh06WF4oN5LNF110kd0rpaQFEjpW119/vbvmmmv+73yjKGP8+PHWCXvhhRd8qxQWBZF8IEjQu6Fi6oEHHnAffPCBmzx5svvvf/9rw2kOWA5sLoLpwJoRpnOeeuop31Ly8T1yESCIHH300b41PoLIrFmz7DkBJJvuCzJjxgzXv3//pL1tpkQnTJjgXxV/nId03hhlJcKxQeVdrJMhhUNBJEWsIidI0LNbtGiRGzBggFUEMZxmmxLKWnv27GmVVfXq1fM/VTCVKlVyxx9/vFUbcQvXbPD666/bn+XLl3dHHnmkPU+EXig9csp50/W9FwdUpU2cONGOxWSoaiPPRJ6gJGAUQnBIBZV+sWNKCoeCSAqYp3/jjTfcZZddZkGC9Qx169b17zqbi95hhx3sYn/QQQe5mjVr+ne2xAjlxx9/9K+So2SR283WqlXLPfroo741MzECYK1NQXJE/CzThOD7JVGeCPkQNs4E31FBkuqsPSlOVq9enecUVjyMmskhlASUbsdGn6mgwODnn3/2ryTdtNjQS7TYkKoPEpdUftx666024siJnh4BZujQoTa1RZIvhsqZxYsXu+nTp7v777/f/ec//7Gqq1TRyyZo8bs//PBDt/322/t3kmPqjXnxwp7iKVOmjM250zv85z//6fr06ePfyR96yrEAzELLgQMHxt1Zmf9f/H9hapEpRea/+e5D/q2PPPKIu+mmm+xBRVim4/vmmGKaatmyZb41Mf5dPXr0sMWgmbBbdUHMmTPH3X333f5VcnTEzjjjDCvUyO/+eCToJTEFES9eEGG+mSmra6+91lbDMhdbu3Zt/+5mJNYvvPBC6/Gw2I1qES7+JPeYbuDCT9klPUeG1qkkjHOit81JQBKRi2WqCHis6o6t+C4sjJiYp2bKje+pd+/e/p38Ifdz7rnn2u9jxf4BBxwQd2TDhZSeNaWsTDXyb73hhhv8u/lDEGG1M38fvzfT8f3wb/7666+tECEVVPvts88+NkVanE95/u2ck+SDUv130DGhyo+fza933nnHP5N4FES8eEGEE5XkNr3es846K88kN7mS888/3zVo0MANHjzYLkYEES5wnORUWZEzoZImJIiwBqBTp06WI8jPlg5sCcJq78KequHCy99DT55diFk5HoLyVEYTbD1CzineqIKLAYctIy3+f5APoWfKKCgEI6jbb7/dfldhB9x04P8nOZEnn3zSAmAqyK0xWmYLmPz2xjMJxxoj1iuuuMJ98cUXvjWxf/3rX9b5yrk1Tqq4RYQkQRCR+CvWJ06cyFEXiY4mIv379/etW6Kdz1xyySWRdevW+dYt9ejRwz4TDSK+JXWTJ0+O1KpVKxINSr4l80SDSKRdu3bBK9ajJ3ikTp069h01btzYt8a3du1aW53M548++ujIvHnz/Dv5x4p1/u7itmL9jTfeiFSvXt2+g0SP6IU3MnToUP9TxR/nWN++ffP8t+Z+cCy99957/ielMCixngBTBrGFbCTOmzRpYs9zIskX6xExXUDiPS/R79o/yx/yLST1d9xxR5smy1QUHxSkh0vRAYUJjDKOOOII3xofU1msyQEJeL77ggj9/1OUOB7JcyQbaXbs2NG1adPGvyr+OMfOPvtsW0yZCOcsOY385CAl/xREEuCiGFukVbVqVdeoUSN7nhNTRuQsqlWrtkXFVrowHUZ5JonmkDnd4oJV6gQiLoipTPeRWCbHxPQGq9RL8ncTT+XKlV109GsFCHlVphFco6M1yxftuuuuvrVk2H333W2KmCm6GjVq+NbNOBZYtT5o0CB35plnZuWxsTUpiCTABWqnnXay58yVE0hyYxRCQpk8CCum04kgxuI7KnDOOecc31oykd8giJCbSrY+hO+FSjlGaVxMqDjKVvS2L7jgAvfEE09YGTjfHaMyckRPP/20FQwkK5UujuhsEDhjuSyKX8iTEDAff/xx+y4YrfD9SOFSEEmABW+xHl5eUzXs1UPpLdNe+++/f9pHItS2sy/SIYccUiIvBDF8f7FqGxYMJrv/B6PD2DoBgggFDdmM6R2Okc6dO9vUDSv3Y4UYbJtTklH5yDqtiy++2AIIFYxU+BWXSruSQEEkCYJD27ZtrSJk2rRpvtVZruS6666zNQoggBB00okpG1bc5qestzhiOjBWqtq8eXP7MxE+y7obEEQKmg8pSeihxx7ZhEo+pvfSfQ5KcgoiSdArvuOOO6xnw1oQSk8JHiwAJEfCCIHPpPtCRu+cUQgnRyYn1NOBWvzYArhUggjlxKzN4bvJpq1OUhErECiOhQJSPCmIJEFSjukS6vHZDZVNEZkmuOWWW2wunjUcBJB0BxGqvkaNGmUJdRaIlWQk1ZkuZPqBUV8i5E1Ys8NFkgVkTZs29e+ISFFQEEkBFzcWtHGB46LOyID7fRNASO7uu+++ac2HcIHkft9UfpE0LWkoFGCUNXr0aKseYiPBWIkwK/4JnizUjOE7jm27z+7JsRXx7EPGXlss9qQMmnvTi8jWpSCSD8wzs5qaCqKcm/8xCkk2FxsrM0yl3JDV7qxGZqRDgCppCCJsCUMQIVgysmvVqpU9CCgvvviibRgYE7vxEp9n6ovEMZ9lnQSBnCokPp9X8YOIFLJor1ei4q1Yj2f27NmRQw89NFKjRo1ItCfsW+Pr1KmTraAdN25c0vtfc79yVqgPGzbMt2S+/NxjPRokbYU7P7NixYrIqlWr/nzQxmPNmjX+05tXs/O52Hv8bOzztEeDkn0+GkT8T+RPSbnHOq688krbOSDn9ydSmDQSCUTlFGWmbMYYb30ISXimvo455hjblwtMT7EXF4/Y2oic6E3TEyfRfOqpp/rWkoVRG+tvWCRGjomFmrEHbTxyrslhOpHPxd7jZ2Ofp53CBj6fbRVJIplAZ10+sBkjN6U64YQTbKUwF3qSvNHen/v3v//95/RWDFsuPPbYYzY1RUkw23pQmspiKNpZVZv7wsduuCwca9++ve28KiKSyRRE8oGFWyxsYs8eFjU99NBDVrFFsp2denMvkqN3zHYTJOEpBWZLah6xNvIruZFMZ4TD1u8iIplOQcRj0RrTI4mwCeIpp5xiIwweTE1xAyqes4U8Uy0FwdQWIxb2gmJLdRGRTKcg4jEtlWzPJjD9xBx97kc65uP5HeRB3nvvPd8iIpLZFEQ8Vj9nwm6f/DcQlEREigMFERERCaYgIiIiwRREJC0ifsO/TJgSzC/+23Ov1xGR1JRixaF/LhJs1apVrlu3blbC3KdPH9u6pTgcWuXKlXPPPvuslWuzpUq82xsXF6xXmjdvnu1BltdN1ETSTUFE0oY7zLFQktFIcVg9zqHPPSgo02bNDvd2Lw7/3YkoiMjWpiAiabNo0SLbaXfhwoVW7ZbpOPQZeTCCYlv54jgVl5uCiGxtCiIiJYiCiGxtSqyLiEgwBREREQmmICIiIsEUREREJJiCiIiIBFMQERGRYAoiIiISTEFERESCKYiIiEgwBREREQmmICIiIsEUREREJJiCiIiIBFMQERGRYAoiIiISTEFERESCKYiIiEgwBREREQmmICIiIsEUREREJJiCiIiIBFMQERGRYAoiIiISTEFERESCKYh4c+fOdRs2bPCvis66devcggUL/CsRkcymIOI1bNjQTZgwwb8qGps2bXKjR492LVq0sOciIplOQcT7448/3MaNG/2rolG6dGkLIL/++qsFExGRTKcgkmGqV6/ujjzySPfcc8/5FpHU0REpVaqU/SmyNehIyzDlypVzF154oRs/frxbvHixbxWJ77fffnPff/+9W7Zsmfvpp59sJLt06VL3ww8/uPXr1/tPiRSOUpEo/zyrbbPNNtb7P/HEE31L0eHkP/roo91ZZ53lrr/+et8qsiUCxNdff+2mTp3qpk+f7pYsWeI+/vhjCyJHHHGEq127tmvatKk77LDDXM2aNV358uX9T4qkj0YiGahChQruhBNOcE8++aRvEfkL/T5GGsOHD7dOxrx589xll13mXnzxRXfOOee4o446yt675JJLrNLvtttuc88884xbsWKF/w0i6aMgkoHoMXIxYDpr2rRpvlVksy+++ML169fPff755+7++++35wcccIDlQX7//XcrVScvsu+++7obb7zR3Xnnne7TTz91gwYNspGLSDopiGSo3XbbzTVp0sTdd999vkXEWceCoEHAuOeee+w4SYbP3HXXXa5GjRpu8ODByrVJWimIZKjtttvOdezY0b355ptu5cqVvlWy2dq1a93IkSPdTjvt5O6++27fmrrLL7/c/nzppZfcL7/8Ys9FCkpBJMCqVavcxIkTLRHPeg6SmWAqgemnhQsX2uuCKFu2rM1tb7/99m7UqFG+VbLZ/Pnz3ZQpU1zfvn19S/717NnTvf3225ZHEUkHBZF8IEhwEt900002LfDee+/ZSGHo0KEWPMaOHeuuvfZam39Oh5133tkdd9xxbsSIEb5FstXPP/9sOyq0bdvW8h2hGMXsvffebsaMGbbFjkhBKYikiABC9ctFF11kvTiSlQMGDLDEJqvMmXO+6qqr3Lbbbuvq1avnf6pgKlWq5I4//nj3zTffuJkzZ/pWyUZMZVHKyxRnIrEAkyjQsA7pgw8+cMuXL/ctIuEURFLAPlaMOJhTZpqJKpf99tvPv+tcq1atXJUqVdyiRYvcQQcdZDX5MfT2GL1MmjTJvf7669abXLNmjX83MS4E7Om15557umHDhvlWyUaMROhUUP6dCMdM7BHP7rvvbscg60lECkqLDb1Eiw2ptT/zzDNtmuqWW25x11xzjX9nM07GSy+91Ka1hgwZ4rp27WrtnPhMe7F4kBLMMmXKWKChXv+KK66wkzkZViMPHDjQgsiHH35oOZJUsc7k/ffft1XwUnzRiaGiimPnmGOOyXOPN4IGpzKdndWrV9u0F0Enr408OR6YeqWDsuuuu9rPSd6YbZDEFES8eEGEAMGU1dVXX20nHYn0OnXq+Hc3mz17tk0RfPnll+6JJ55wbdq0sXamvBh5UEnTuHFja6Mq5pRTTnF77bWXTYGlEhRI3LN6nXxLsumMnPr3729/P1NsUnxxilLMweiBqdJ4OzwzSqaogyCzzz77xL21AZ/76KOP7BisWrWqb5W8jBs3zj+TeBREvHhBhMVZrVu3tgVejEaefvpp/85fXnjhBXf++ee7Bg0a2MiDUQcn6amnnuq6dOliFTE5t5ygTLNz5862irhdu3ZJN8sjJ9KpUyer1urdu7dvTY6AxdYYiaY2JPMRNMhhjBkzxtaGxJuGYuTx4IMPWrBhkSF5lLzQcTn77LPdxRdf7Bo1ahQ3KIlzO+ywg38mcRFEJBKJ9s4i0ZPUv/rLpEmTCLKR6IkX6devn2/dUnREYZ/p3r17ZN26ddZ2yy232O8cO3asvc5p2bJlkR133DESDUqR6AXBt8Y3ZcqUSK1atSLRXpFvkWyzYMGCSPv27f2r+B555JFI3759/av4OnToEJk7d65/JRJOifUE6MV/9tln9pweyaGHHmrPc6K3R/0+mEKIJT7nzJlj0wp59WQo3WVemhLhZLuskphnnptpByq1JDsxymC0zJ5ZiUTP6aQ5jlmzZtktB/idIgWlIJIAN6qKVVJxEScnkttXX33lPvnkE1etWjVXt25dayOxySrzRNNIvMf8NUn3RNjimyToaaedpntEZDGq/+hEkJ8rqOhoxR1++OHWmREpKF2VEqCaiuAAktN5jSrIlbCGY//99/8z4c7ohKqqVCQaiRDEWBvw3Xff2YaMkr04/po1a2YVggXZEYHcCscnHSJGNiIFpSCSAMlwggO4oOdGNRZbbhMI+BwrgcEoIx3JbEqE2eeIyi4qaSS71apVyxLiVOmFbOtOQp7qQaoDc1cYioRSEEmC4MDWI9w1jjUXMXPnzrWTmUWEIIDEKrCSzUmnirUBkydPtsovEfJorP+g+o/KKo7JVLE6/YYbbrAS4ZYtW1qZr0g6KIgkwbwxG96RNL/gggtsa3bKJ1njwep0eod8hvdjCCapnqTxPsfohhp18iCxdScilStXtoWtLDrs0aOHlaXnlNco+OWXX7abVxF8mBbld4iki4JIEpyQBAtWjN9+++1WfUWVFs9pZw0HASRnECGokEthRBJvWov3dtlllz9zLrmxxoPde1lroioayYncHB0aggij45NOOsndcccdVu1HQQfFGixQpfNz7rnnWh6kW7duFkBI0Iukk4JICkiwk5NgYSArx6mSYbuIb7/91i72BJDcc8yxTRj5TG6U/zLSYP+tvJKbBBjuWkfOhZNfJDdGu9xHnYWsbMPD/mqvvvqqlaSTeKeij2pB9ntj5ELHRzsXSGFQEMkHggmjAuamKeOltBfchjT3CUolDXeSo3ord6UWFTas/+jQocMWK9lj+DwJe/IxOTd6FMmJ45FjjHJdRqzcZ50tdljV3r17d7tPP3fHZPt3lYdLYdGRFWjJkiW2ZxaLtggiubFVysknn2wLBZnyyon7gzRv3ty2WOFCkBujG3b8ZcpCJBkCBNOsTI0ylRqbTqWDko4qQZFEFEQCEURYH8I0Vqy0Nze2jGdvol69elkwYYqKjRorVqzoHn30Uesh5kYpMfctYTRC71JEJJNpA0Yv3gaMOTHXzFQBW0+wdQTbnTCdwHwzmy+SuDzwwAP9pzcj98FIhLlqRhgk42vXrm3TYnn1Eqnlpxqrfv36tpmjiEgmUxDxUgkibEEyfvz4LW4qRSDgK2QKgSkqKq5y4312SuVPpq8STTGQdG/atKl7/vnn3bHHHutbRUQyk4KIRxCgpJaEeDx8VYm+roImLwk0bBPfp08fy7eIiGQ6BREREQmmxLqIiARTEBERkWAKIiIiEkxBREREgimIiIhIMAUREREJpiAiIiLBFERERCSYgoiIiARTEBERkWAKIiIiEkxBREREgimIiIhIMAUREREJpiAiIiLBFERERCSYgoiIiARTEBERkWAKIiIiEkxBREREgimIiIhIMAUREREJpiAiIiLBFERERCSYgoiIiARTEBERkWAKIiIiEkxBREREgimIiIhIMAUREREJpiAiIiLBFERERCSYgoiIiARTEBERkWAKIiIiEkxBREREgimIiIhIMAUREREJpiAiIiLBFERERCSYgoiIiARy7n/ZLwdUq38i2QAAAABJRU5ErkJggg==)"
      ],
      "metadata": {
        "id": "RZUrkkWyJXgv"
      }
    },
    {
      "cell_type": "code",
      "source": [
        "circuit = (I ** Hadamard() ** I) * (I ** CNot()) * (CNot(0, 1) ** I)\n",
        "result = circuit(ket0 ** ket0 ** ket0)"
      ],
      "metadata": {
        "id": "0iww0y5CJYh9"
      },
      "execution_count": null,
      "outputs": []
    },
    {
      "cell_type": "code",
      "source": [
        "result"
      ],
      "metadata": {
        "colab": {
          "base_uri": "https://localhost:8080/"
        },
        "id": "Jdgs7iyynqcz",
        "outputId": "f5e9baaf-babc-47b4-8353-8453599aa56b"
      },
      "execution_count": null,
      "outputs": [
        {
          "output_type": "execute_result",
          "data": {
            "text/plain": [
              "<__main__.QRegister at 0x7f86560248b0>"
            ]
          },
          "metadata": {},
          "execution_count": 20
        }
      ]
    },
    {
      "cell_type": "code",
      "source": [
        "result.dirac()"
      ],
      "metadata": {
        "colab": {
          "base_uri": "https://localhost:8080/",
          "height": 36
        },
        "id": "fHvneI_Znq1T",
        "outputId": "64bc7a6e-dd43-4c88-e43c-97d44b78d7cd"
      },
      "execution_count": null,
      "outputs": [
        {
          "output_type": "execute_result",
          "data": {
            "text/plain": [
              "'+0.707107|000> +0.707107|111>'"
            ],
            "application/vnd.google.colaboratory.intrinsic+json": {
              "type": "string"
            }
          },
          "metadata": {},
          "execution_count": 21
        }
      ]
    }
  ]
}