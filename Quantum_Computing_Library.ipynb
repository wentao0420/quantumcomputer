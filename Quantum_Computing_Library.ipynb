{
  "nbformat": 4,
  "nbformat_minor": 0,
  "metadata": {
    "colab": {
      "provenance": [],
      "authorship_tag": "ABX9TyNN5+OoQbnuj50vu3tskwCK",
      "include_colab_link": true
    },
    "kernelspec": {
      "name": "python3",
      "display_name": "Python 3"
    },
    "language_info": {
      "name": "python"
    }
  },
  "cells": [
    {
      "cell_type": "markdown",
      "metadata": {
        "id": "view-in-github",
        "colab_type": "text"
      },
      "source": [
        "<a href=\"https://colab.research.google.com/github/wentao0420/quantumcomputer/blob/main/Quantum_Computing_Library.ipynb\" target=\"_parent\"><img src=\"https://colab.research.google.com/assets/colab-badge.svg\" alt=\"Open In Colab\"/></a>"
      ]
    },
    {
      "cell_type": "markdown",
      "source": [
        "##  Quantum Computing Library \n",
        "---\n",
        "Obtained from https://github.com/rnowotniak/qclib/blob/master/qclib.py\n"
      ],
      "metadata": {
        "id": "WnDDQpiuGKe6"
      }
    },
    {
      "cell_type": "code",
      "execution_count": 1,
      "metadata": {
        "id": "G_RB5phPE4dm"
      },
      "outputs": [],
      "source": [
        "from numpy import *\n",
        "from random import random\n",
        "import copy"
      ]
    },
    {
      "cell_type": "code",
      "source": [
        "# for floating point operations, comparisons etc.\n",
        "epsilon = 10e-6"
      ],
      "metadata": {
        "id": "CQjVzb7UE8gI"
      },
      "execution_count": 2,
      "outputs": []
    },
    {
      "cell_type": "markdown",
      "source": [
        "Defining quantum register class"
      ],
      "metadata": {
        "id": "CgRDUVtfGvaM"
      }
    },
    {
      "cell_type": "code",
      "source": [
        "class QRegister:\n",
        "\n",
        "    def __init__(self, m = None):\n",
        "        if m == None:\n",
        "            return\n",
        "        if isinstance(m, ndarray) or type(m) == type([]):\n",
        "            m = matrix(m)\n",
        "        if isinstance(m, matrix) and m.shape[0] == 1:\n",
        "            m = transpose(m)\n",
        "        if not isinstance(m, matrix) or m.shape[1] != 1:\n",
        "            raise WrongSizeException\n",
        "        self.matrix = m\n",
        "        self.size = int(math.log(m.size, 2))\n",
        "\n",
        "    def __rmul__(self, arg1):\n",
        "        # arg1 * self\n",
        "        if type(arg1) not in [int, float, complex]:\n",
        "            raise Exception()\n",
        "        result = copy.deepcopy(self)\n",
        "        result.matrix = arg1 * self.matrix\n",
        "        return result\n",
        "\n",
        "    def __add__(self, arg2):\n",
        "        # self + arg2\n",
        "        result = copy.deepcopy(self)\n",
        "        result.matrix = self.matrix + arg2.matrix\n",
        "        return result\n",
        "\n",
        "    def __sub__(self, arg2):\n",
        "        # self - arg2\n",
        "        result = copy.deepcopy(self)\n",
        "        result.matrix = self.matrix - arg2.matrix\n",
        "        return result\n",
        "\n",
        "    def __pow__(self, arg2):\n",
        "        # self ** arg2\n",
        "        result = QRegister()\n",
        "        result.matrix = kron(self.matrix, arg2.matrix)\n",
        "        result.size = int(math.log(result.matrix.size, 2))\n",
        "        return result\n",
        "\n",
        "    def __cmp__(self, other):\n",
        "        m1 = self.matrix\n",
        "        if isinstance(other, (matrix, ndarray)):\n",
        "            m2 = other\n",
        "        elif isinstance(other, QRegister):\n",
        "            m2 = other.matrix\n",
        "        else:\n",
        "            return -1\n",
        "        try:\n",
        "            if sum(abs(m1 - m2)) < epsilon:\n",
        "                return 0\n",
        "            else:\n",
        "                return 1\n",
        "        except Exception:\n",
        "            raise WrongSizeException('Comparison of different size quantum registers')\n",
        "\n",
        "    def __str__(self):\n",
        "        return str(self.matrix)\n",
        "\n",
        "    def reset(self, n = 0):\n",
        "        for i in range(self.matrix.size):\n",
        "            self.matrix[i] = 0\n",
        "        self.matrix[n] = 1\n",
        "\n",
        "    def normalize(self):\n",
        "        l = sqrt(sum([abs(x)**2 for x in self.matrix]))\n",
        "        self.matrix = self.matrix / l\n",
        "        return self\n",
        "\n",
        "    def measure(self, *qubits):\n",
        "        if len(qubits) == 0:\n",
        "            # measure all qubits in register\n",
        "            qubits = range(int(math.log(self.matrix.size, 2)))\n",
        "        qubits = list(qubits)\n",
        "        qubits.sort()\n",
        "        p = {} # results probabilities\n",
        "        # number of possible measurement results\n",
        "        nres = 2 ** len(qubits)\n",
        "        # enumerate all posible results\n",
        "        for i in range(nres):\n",
        "            p[dec2bin(i, int(math.log(nres, 2)))[::-1]] = 0.0\n",
        "        for i in range(self.matrix.size):\n",
        "            # reversed binary representation of base vector\n",
        "            revbin = dec2bin(i, int(math.log(self.matrix.size, 2)))[::-1]\n",
        "            # reversed binary representation of selected qubits\n",
        "            revsel = ''.join([revbin[q] for q in qubits])\n",
        "            p[revsel] += float(abs(self.matrix[i]) ** 2)\n",
        "        keys = p.keys()\n",
        "        # accumulated probabilities\n",
        "        last = p[keys[0]]\n",
        "        for k in keys[1:]:\n",
        "            p[k] += last\n",
        "            last = p[k]\n",
        "        p[keys[-1]] = 1.0\n",
        "        # get the measurement result according to probabilities\n",
        "        r = random()\n",
        "        for k in keys:\n",
        "            if r <= p[k]:\n",
        "                result = k\n",
        "                break\n",
        "        # selective reset of amplitudes\n",
        "        for i in range(self.matrix.size):\n",
        "            revbin = dec2bin(i, int(math.log(self.matrix.size, 2)))[::-1]\n",
        "            revsel = ''.join([revbin[q] for q in qubits])\n",
        "            if revsel != result:\n",
        "                self.matrix[i] = 0.0\n",
        "        # normalize final state\n",
        "        self.normalize()\n",
        "        return Ket(int(result[::-1], 2), len(qubits))\n",
        "\n",
        "    def dirac(self, reduce = True, binary = True):\n",
        "        \"\"\"Return state in Dirac (bra-ket) notation\"\"\"\n",
        "        elems = []\n",
        "        if len(list(filter(lambda x: float(abs(x)) > 1 - epsilon, self.matrix))) == 1:\n",
        "            single = True\n",
        "        else:\n",
        "            single = False\n",
        "        for i in range(self.matrix.size):\n",
        "            val = complex(real(self.matrix[i]), imag(self.matrix[i]))\n",
        "            if reduce and abs(val) < epsilon:\n",
        "                continue\n",
        "            if abs(val) < epsilon:\n",
        "                elem = '+0'\n",
        "            elif imag(val) == 0:\n",
        "                elem = '%+g' % abs(val)\n",
        "            elif real(val) != 0:\n",
        "                elem = '+%s' % str(val)\n",
        "            else:\n",
        "                # only imaginary part\n",
        "                elem = '%+gj' % (imag(val))\n",
        "            if single and reduce:\n",
        "                elem = ''\n",
        "            if binary:\n",
        "                elem += ('|%0'+str(math.log(self.matrix.size, 2))+'d>') % int(dec2bin(i))\n",
        "            else:\n",
        "                elem += '|%s>' % i\n",
        "            elems.append(elem)\n",
        "        return ' '.join(elems)\n",
        "\n",
        "    def outer(self, qreg):\n",
        "        '''Compute an outer product with another register'''\n",
        "        if self.matrix.size != transpose(qreg.matrix).size:\n",
        "            raise WrongSizeException('Outer product of different size registers')\n",
        "        result = Arbitrary(dot(self.matrix, transpose(qreg.matrix)))\n",
        "        return result"
      ],
      "metadata": {
        "id": "dAKX-U8XFALV"
      },
      "execution_count": 3,
      "outputs": []
    },
    {
      "cell_type": "markdown",
      "source": [
        "Defining qubit class"
      ],
      "metadata": {
        "id": "whbaR0RoG3Ft"
      }
    },
    {
      "cell_type": "code",
      "source": [
        "class Qubit(QRegister):\n",
        "\n",
        "    def __init__(self, val):\n",
        "        if not isinstance(val, int):\n",
        "            return QRegister.__init__(self, val)\n",
        "        self.size = 1\n",
        "        if val == 0:\n",
        "            self.matrix = transpose(matrix([[1, 0]]))\n",
        "        elif val == 1:\n",
        "            self.matrix = transpose(matrix([[0, 1]]))\n",
        "        else:\n",
        "            raise WrongSizeException\n",
        "\n",
        "    def flip(self):\n",
        "        tmp = self.matrix[0]\n",
        "        self.matrix[0] = self.matrix[1]\n",
        "        self.matrix[1] = tmp"
      ],
      "metadata": {
        "id": "UUjkhuTkFAIK"
      },
      "execution_count": 4,
      "outputs": []
    },
    {
      "cell_type": "markdown",
      "source": [
        "Defining quantum circuit class"
      ],
      "metadata": {
        "id": "HaPEfckzIfag"
      }
    },
    {
      "cell_type": "code",
      "source": [
        "class QCircuit:\n",
        "\n",
        "    def __init__(self, *stages):\n",
        "        self.stages = stages\n",
        "\n",
        "    def __call__(self, qreg):\n",
        "        # Efficient algorithm could be implemented here instead\n",
        "        result = copy.deepcopy(qreg)\n",
        "        for s in self.stages:\n",
        "            result = s(result)\n",
        "        return result"
      ],
      "metadata": {
        "id": "-IykvI0gFAGF"
      },
      "execution_count": 5,
      "outputs": []
    },
    {
      "cell_type": "markdown",
      "source": [
        "Defining quantum gate class"
      ],
      "metadata": {
        "id": "oV5YxCkYG5un"
      }
    },
    {
      "cell_type": "code",
      "source": [
        "class QGate:\n",
        "\n",
        "    def __pow__(self, arg2):\n",
        "        # parallel gates\n",
        "        if not isinstance(arg2, QGate):\n",
        "            raise Exception(repr(arg2))\n",
        "        result = Stage(self, arg2)\n",
        "        return result\n",
        "\n",
        "    def __str__(self):\n",
        "        return str(self.matrix)\n",
        "\n",
        "    def __mul__(self, arg2):\n",
        "        # self * arg2\n",
        "        if isinstance(arg2, QRegister):\n",
        "            # gate * reg\n",
        "            result = QRegister()\n",
        "            try:\n",
        "                result.matrix = dot(self.matrix, arg2.matrix)\n",
        "            except:\n",
        "                raise WrongSizeException('Wrong size of input register for this gate')\n",
        "            return result\n",
        "        if self.matrix.shape != arg2.matrix.shape:\n",
        "            raise Exception()\n",
        "        # gate * gate\n",
        "        result = QGate()\n",
        "        # order changed!\n",
        "        result.matrix = dot(arg2.matrix, self.matrix)\n",
        "        return result\n",
        "\n",
        "    def __rmul__(self, arg1):\n",
        "        # arg1 * self\n",
        "        if type(arg1) not in [int, float, complex]:\n",
        "            raise Exception('Numerical coefficient expected')\n",
        "        result = copy.deepcopy(self)\n",
        "        result.matrix = arg1 * self.matrix\n",
        "        return result\n",
        "\n",
        "    def __add__(self, arg2):\n",
        "        # self + arg2\n",
        "        result = copy.deepcopy(self)\n",
        "        result.matrix = self.matrix + arg2.matrix\n",
        "        return result\n",
        "\n",
        "    def __sub__(self, arg2):\n",
        "        # self - arg2\n",
        "        result = copy.deepcopy(self)\n",
        "        result.matrix = self.matrix - arg2.matrix\n",
        "        return result\n",
        "\n",
        "    def __call__(self, qreg):\n",
        "        return self.compute(qreg)\n",
        "\n",
        "    def compute(self, qreg):\n",
        "        if not isinstance(qreg, QRegister):\n",
        "            raise Exception()\n",
        "        return self * qreg\n",
        "\n",
        "    def trace(self):\n",
        "        return self.matrix.trace()\n",
        "\n",
        "    def determinant(self):\n",
        "        return linalg.det(self.matrix)\n",
        "\n",
        "    def transpose(self):\n",
        "        self.matrix = transpose(self.matrix)\n",
        "        return self\n",
        "\n",
        "    def inverse(self):\n",
        "        self.matrix = linalg.inv(self.matrix)\n",
        "        return self"
      ],
      "metadata": {
        "id": "coT051E4FADO"
      },
      "execution_count": 6,
      "outputs": []
    },
    {
      "cell_type": "markdown",
      "source": [
        "Defining quantum computing stage (a layer in circuit)"
      ],
      "metadata": {
        "id": "rGabCcjiG-Xa"
      }
    },
    {
      "cell_type": "code",
      "source": [
        "class Stage(QGate):\n",
        "\n",
        "    def __init__(self, *gates):\n",
        "        self.gates = gates\n",
        "        m = self.gates[0].matrix\n",
        "        for g in self.gates[1:]:\n",
        "            m = kron(m, g.matrix)\n",
        "        self.matrix = m\n",
        "        self.size = sum([g.size for g in gates])"
      ],
      "metadata": {
        "id": "16ef_5d4FAAb"
      },
      "execution_count": 7,
      "outputs": []
    },
    {
      "cell_type": "markdown",
      "source": [
        "Defining elementary quantum gates"
      ],
      "metadata": {
        "id": "wNwhsw-HHDEm"
      }
    },
    {
      "cell_type": "code",
      "source": [
        "class ElementaryQuantumGate(QGate):\n",
        "    pass\n",
        "\n",
        "\n",
        "class Identity(ElementaryQuantumGate):\n",
        "    def __init__(self, size = 1):\n",
        "        self.matrix = eye(2 ** size)\n",
        "        self.size = size\n",
        "        \n",
        "\n",
        "class Hadamard(ElementaryQuantumGate):\n",
        "    def __init__(self, size = 1):\n",
        "        h = s2 * matrix([\n",
        "            [1, 1],\n",
        "            [1, -1]])\n",
        "        m = h\n",
        "        for i in range(size - 1):\n",
        "            m = kron(m, h)\n",
        "        self.matrix = m\n",
        "        self.size = size\n",
        "\n",
        "\n",
        "class CNot(ElementaryQuantumGate):\n",
        "    '''Controlled not gate'''\n",
        "\n",
        "    def __init__(self, control = 1, target = 0):\n",
        "        if control == target:\n",
        "            # (it would impose non-unitary matrix)\n",
        "            raise Exception('Control and target qubits cannot be equal')\n",
        "        elif control == 1 and target == 0:\n",
        "            self.matrix = matrix([\n",
        "                [1, 0, 0, 0],\n",
        "                [0, 1, 0, 0],\n",
        "                [0, 0, 0, 1],\n",
        "                [0, 0, 1, 0]])\n",
        "            self.size = 2\n",
        "        elif control == 0 and target == 1:\n",
        "            self.matrix = matrix([\n",
        "                [1, 0, 0, 0],\n",
        "                [0, 0, 0, 1],\n",
        "                [0, 0, 1, 0],\n",
        "                [0, 1, 0, 0]])\n",
        "            self.size = 2\n",
        "        else:\n",
        "            size = max(control, target) + 1\n",
        "            if size == 1:\n",
        "                size = 2\n",
        "            dim = 2 ** size\n",
        "            self.matrix = eye(dim)\n",
        "            # find correct permutation of identity matrix columns\n",
        "            for b in range(dim):\n",
        "                bstr = dec2bin(b, size)\n",
        "                if bstr[-(control+1)] == '1':\n",
        "                    bstr = list(bstr)\n",
        "                    if bstr[-(target+1)] == '0':\n",
        "                        bstr[-(target+1)] = '1'\n",
        "                    else:\n",
        "                        bstr[-(target+1)] = '0'\n",
        "                    bstr = ''.join(bstr)\n",
        "                    self.matrix[:,b] = eye(dim)[:,int(bstr, 2)]\n",
        "            self.size = size\n",
        "\n",
        "\n",
        "class Not(ElementaryQuantumGate):\n",
        "    '''Not gate'''\n",
        "\n",
        "    def __init__(self):\n",
        "        self.matrix = matrix([\n",
        "            [0, 1],\n",
        "            [1, 0]])\n",
        "        self.size = 1\n",
        "\n",
        "\n",
        "class PhaseShift(ElementaryQuantumGate):\n",
        "    def __init__(self, angle = pi):\n",
        "        self.angle = angle\n",
        "        self.matrix = matrix([\n",
        "            [1, 0],\n",
        "            [0, exp(angle * 1j)]])\n",
        "        self.size = 1\n",
        "\n",
        "\n",
        "class Toffoli(ElementaryQuantumGate):\n",
        "    '''Toffoli gate -- Controlled Controlled Not gate'''\n",
        "    def __init__(self):\n",
        "        self.matrix = matrix([\n",
        "            [ 1,  0,  0,  0,  0,  0,  0,  0],\n",
        "            [ 0,  1,  0,  0,  0,  0,  0,  0],\n",
        "            [ 0,  0,  1,  0,  0,  0,  0,  0],\n",
        "            [ 0,  0,  0,  1,  0,  0,  0,  0],\n",
        "            [ 0,  0,  0,  0,  1,  0,  0,  0],\n",
        "            [ 0,  0,  0,  0,  0,  1,  0,  0],\n",
        "            [ 0,  0,  0,  0,  0,  0,  0,  1],\n",
        "            [ 0,  0,  0,  0,  0,  0,  1,  0]])\n",
        "        self.size = 3\n",
        "\n",
        "\n",
        "class Fredkin(ElementaryQuantumGate):\n",
        "    '''Fredkin gate -- Controlled Swap gate'''\n",
        "    def __init__(self):\n",
        "        self.matrix = matrix([\n",
        "            [ 1,  0,  0,  0,  0,  0,  0,  0],\n",
        "            [ 0,  1,  0,  0,  0,  0,  0,  0],\n",
        "            [ 0,  0,  1,  0,  0,  0,  0,  0],\n",
        "            [ 0,  0,  0,  1,  0,  0,  0,  0],\n",
        "            [ 0,  0,  0,  0,  1,  0,  0,  0],\n",
        "            [ 0,  0,  0,  0,  0,  0,  1,  0],\n",
        "            [ 0,  0,  0,  0,  0,  1,  0,  0],\n",
        "            [ 0,  0,  0,  0,  0,  0,  0,  1]])\n",
        "        self.size = 3\n",
        "\n",
        "\n",
        "class Swap(ElementaryQuantumGate):\n",
        "    '''Qubits order swap gate'''\n",
        "    def __init__(self):\n",
        "        self.matrix = matrix([\n",
        "            [1, 0, 0, 0],\n",
        "            [0, 0, 1, 0],\n",
        "            [0, 1, 0, 0],\n",
        "            [0, 0, 0, 1]])\n",
        "        self.size = 2\n",
        "\n",
        "\n",
        "class Arbitrary(ElementaryQuantumGate):\n",
        "    '''Quantum gate with arbitrary unitary matrix'''\n",
        "    def __init__(self, m):\n",
        "        m = matrix(m)\n",
        "        if (m.H * m == eye(m.shape[0])).any() == False:\n",
        "            pass\n",
        "            # raise Exception, 'Not unitary matrix for quantum gate'\n",
        "        self.matrix = m\n",
        "        self.size = int(math.log(m.shape[0], 2))"
      ],
      "metadata": {
        "id": "bGXlUuqnE_9m"
      },
      "execution_count": 8,
      "outputs": []
    },
    {
      "cell_type": "code",
      "source": [
        "class WrongSizeException(Exception):\n",
        "    def __str__(self):\n",
        "        return 'Wrong size of quantum computing object'\n",
        "\n",
        "\n",
        "def dec2bin(dec, length = None):\n",
        "    \"\"\"convert decimal value to binary string\"\"\"\n",
        "    result = ''\n",
        "    if dec < 0:\n",
        "        raise ValueError(\"Must be a positive integer\")\n",
        "    if dec == 0:\n",
        "        result = '0'\n",
        "        if length != None:\n",
        "            result = result.rjust(length, '0')\n",
        "        return result\n",
        "    while dec > 0:\n",
        "        result = str(dec % 2) + result\n",
        "        dec = dec >> 1\n",
        "    if length != None:\n",
        "        result = result.rjust(length, '0')\n",
        "    return result\n",
        "\n",
        "\n",
        "def Ket(n, size = None):\n",
        "    if (n == 0 or n == 1) and size == None:\n",
        "        return Qubit(n)\n",
        "    ket = QRegister()\n",
        "    if size == None:\n",
        "        size = int(floor(math.log(n, 2)) + 1)\n",
        "    ket.matrix = transpose(matrix([zeros(2 ** size)]))\n",
        "    ket.matrix[n] = 1\n",
        "    return ket\n",
        "\n",
        "\n",
        "def epr(qreg = Ket(0) ** Ket(0)):\n",
        "    \"\"\"Generate an EPR-pair for |00> input state\"\"\"\n",
        "    circ = (Hadamard() ** I) * CNot()\n",
        "    return circ(qreg)"
      ],
      "metadata": {
        "id": "I57M3R6lnxGv"
      },
      "execution_count": 9,
      "outputs": []
    },
    {
      "cell_type": "markdown",
      "source": [
        "Assigning operations"
      ],
      "metadata": {
        "id": "oqneKd5qJTL4"
      }
    },
    {
      "cell_type": "code",
      "source": [
        "ket0 = Ket(0)\n",
        "ket1 = Ket(1)\n",
        "s2 = sqrt(2) / 2\n",
        "\n",
        "h = Hadamard()\n",
        "I = Identity()\n",
        "cnot = CNot()\n",
        "cnot2 = CNot(0, 1)\n",
        "T = Arbitrary(matrix([\n",
        "    [1, 0],\n",
        "    [0, exp(1.0j*pi/4)]]))"
      ],
      "metadata": {
        "id": "lED1h3LXE_6I"
      },
      "execution_count": 10,
      "outputs": []
    },
    {
      "cell_type": "markdown",
      "source": [
        "Testing"
      ],
      "metadata": {
        "id": "RZUrkkWyJXgv"
      }
    },
    {
      "cell_type": "code",
      "source": [
        "circuit = (I ** Hadamard() ** I) * (I ** CNot()) * (CNot(0, 1) ** I)\n",
        "result = circuit(ket0 ** ket0 ** ket0)"
      ],
      "metadata": {
        "id": "0iww0y5CJYh9"
      },
      "execution_count": 19,
      "outputs": []
    },
    {
      "cell_type": "code",
      "source": [
        "result"
      ],
      "metadata": {
        "colab": {
          "base_uri": "https://localhost:8080/"
        },
        "id": "Jdgs7iyynqcz",
        "outputId": "f5e9baaf-babc-47b4-8353-8453599aa56b"
      },
      "execution_count": 20,
      "outputs": [
        {
          "output_type": "execute_result",
          "data": {
            "text/plain": [
              "<__main__.QRegister at 0x7f86560248b0>"
            ]
          },
          "metadata": {},
          "execution_count": 20
        }
      ]
    },
    {
      "cell_type": "code",
      "source": [
        "result.dirac()"
      ],
      "metadata": {
        "colab": {
          "base_uri": "https://localhost:8080/",
          "height": 36
        },
        "id": "fHvneI_Znq1T",
        "outputId": "64bc7a6e-dd43-4c88-e43c-97d44b78d7cd"
      },
      "execution_count": 21,
      "outputs": [
        {
          "output_type": "execute_result",
          "data": {
            "text/plain": [
              "'+0.707107|000> +0.707107|111>'"
            ],
            "application/vnd.google.colaboratory.intrinsic+json": {
              "type": "string"
            }
          },
          "metadata": {},
          "execution_count": 21
        }
      ]
    }
  ]
}
